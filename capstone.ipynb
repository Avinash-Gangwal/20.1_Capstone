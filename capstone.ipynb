# Capstone Project: Predicting Customer Churn in Telecom Industry

# Importing Required Libraries
import pandas as pd
import numpy as np
import matplotlib.pyplot as plt
import seaborn as sns
from sklearn.model_selection import train_test_split
from sklearn.ensemble import RandomForestClassifier
from sklearn.metrics import classification_report, confusion_matrix

# Load Dataset
data = pd.read_csv("sample_data/CustomerChurn.csv")

# Data Overview
print(data.head())
print(data.info())

# Data Cleaning: Convert Total Charges to numeric and handle missing values
data['Total Charges'] = pd.to_numeric(data['Total Charges'], errors='coerce')
data.dropna(inplace=True)

# Exploratory Data Analysis (EDA)
# Distribution of Churned vs Non-Churned Customers (Pie Chart)
plt.figure(figsize=(8, 6))
data['Churn'].value_counts().plot.pie(autopct='%1.1f%%', colors=['skyblue', 'salmon'], startangle=90)
plt.title('Customer Churn Distribution')
plt.ylabel('')
plt.show()

# Monthly Charges vs Churn (Box Plot)
plt.figure(figsize=(10, 6))
sns.boxplot(data=data, x='Churn', y='Monthly Charges', palette='coolwarm')
plt.title('Monthly Charges vs Churn')
plt.show()

# Tenure Distribution by Churn Status (Histogram)
plt.figure(figsize=(10, 6))
sns.histplot(data=data, x='Tenure', hue='Churn', multiple='stack', palette='coolwarm', bins=30)
plt.title('Tenure Distribution by Churn Status')
plt.show()

# Feature Engineering (Encoding Categorical Variables)
data_encoded = pd.get_dummies(data, drop_first=True)

# Splitting Data into Train and Test Sets
X = data_encoded.drop('Churn_Yes', axis=1)
y = data_encoded['Churn_Yes']
X_train, X_test, y_train, y_test = train_test_split(X, y, test_size=0.2, random_state=42)

# Model Training: Random Forest Classifier
model = RandomForestClassifier(random_state=42)
model.fit(X_train, y_train)

# Model Evaluation: Confusion Matrix and Classification Report
y_pred = model.predict(X_test)
print("Confusion Matrix:")
print(confusion_matrix(y_test, y_pred))
print("\nClassification Report:")
print(classification_report(y_test, y_pred))

# Feature Importance Visualization
feature_importances = pd.DataFrame(model.feature_importances_, index=X.columns,
                                    columns=['Importance']).sort_values(by='Importance', ascending=False)
plt.figure(figsize=(10, 6))
sns.barplot(x=feature_importances['Importance'], y=feature_importances.index)
plt.title('Feature Importance')
plt.show()
